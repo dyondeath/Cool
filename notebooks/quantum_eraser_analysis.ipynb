{
 "cells": [
  {
   "cell_type": "code",
   "execution_count": null,
   "metadata": {},
   "outputs": [],
   "source": [
    "from quantum_echo.core_simulator import quantum_eraser_sim\n",
    "from quantum_echo.utils import plot_results\n",
    "p_h, err = quantum_eraser_sim(1000, 1)\n",
    "plot_results(p_h, err)"
   ]
  }
 ],
 "metadata": {
  "kernelspec": {
   "display_name": "Python 3",
   "language": "python",
   "name": "python3"
  },
  "language_info": {
   "name": "python",
   "version": "3.10"
  }
 },
 "nbformat": 4,
 "nbformat_minor": 5
}
